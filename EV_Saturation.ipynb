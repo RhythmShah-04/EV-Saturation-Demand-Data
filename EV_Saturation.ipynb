{
 "cells": [
  {
   "cell_type": "code",
   "execution_count": 1,
   "id": "4f2e763e-73b5-4495-8cde-f6d80ebfb67d",
   "metadata": {},
   "outputs": [],
   "source": [
    "import pandas as pd\n",
    "import numpy as np\n",
    "pd.set_option('display.max_columns', 200)"
   ]
  },
  {
   "cell_type": "code",
   "execution_count": 2,
   "id": "271166a9-6b4e-485d-9863-c426ebf3e8f2",
   "metadata": {
    "scrolled": true
   },
   "outputs": [
    {
     "name": "stderr",
     "output_type": "stream",
     "text": [
      "C:\\Users\\Rhythm Shah\\AppData\\Local\\Temp\\ipykernel_11032\\3519543691.py:5: DtypeWarning: Columns (1,4) have mixed types. Specify dtype option on import or set low_memory=False.\n",
      "  df5=pd.read_csv('5.csv')\n",
      "C:\\Users\\Rhythm Shah\\AppData\\Local\\Temp\\ipykernel_11032\\3519543691.py:16: DtypeWarning: Columns (1,4) have mixed types. Specify dtype option on import or set low_memory=False.\n",
      "  df16=pd.read_csv('16.csv')\n"
     ]
    }
   ],
   "source": [
    "\n",
    "df=pd.read_csv('1.csv')\n",
    "df2=pd.read_csv('2.csv')\n",
    "df3=pd.read_csv('3.csv')\n",
    "df4=pd.read_csv('4.csv')\n",
    "df5=pd.read_csv('5.csv')\n",
    "df6=pd.read_csv('6.csv')\n",
    "df7=pd.read_csv('7.csv')\n",
    "df8=pd.read_csv('8.csv')\n",
    "df9=pd.read_csv('9.csv')\n",
    "df10=pd.read_csv('10.csv')\n",
    "df11=pd.read_csv('11.csv')\n",
    "df12=pd.read_csv('12.csv')\n",
    "df13=pd.read_csv('13.csv')\n",
    "df14=pd.read_csv('14.csv')\n",
    "df15=pd.read_csv('15.csv')\n",
    "df16=pd.read_csv('16.csv')\n",
    "df17=pd.read_csv('17.csv')\n",
    "df18=pd.read_csv('18.csv')\n",
    "df19=pd.read_csv('19.csv')"
   ]
  },
  {
   "cell_type": "code",
   "execution_count": 3,
   "id": "b09f7084-f290-49c1-a415-6e78e4320077",
   "metadata": {
    "scrolled": true
   },
   "outputs": [
    {
     "name": "stdout",
     "output_type": "stream",
     "text": [
      "<bound method NDFrame.head of        Reading values             Profile               Reading time  \\\n",
      "0            2,29,000                 NaN  2022-04-01T01:10:00+02:00   \n",
      "1            2,31,900                 NaN  2022-04-01T01:10:00+02:00   \n",
      "2            2,26,500                 NaN  2022-04-01T01:10:00+02:00   \n",
      "3            2,32,200                 NaN  2022-04-01T01:10:00+02:00   \n",
      "4            2,31,000                 NaN  2022-04-01T01:10:00+02:00   \n",
      "...               ...                 ...                        ...   \n",
      "134556          0,000  Daily Load Profile  2022-06-01T01:00:00+02:00   \n",
      "134557          0,039  Daily Load Profile  2022-06-01T01:00:00+02:00   \n",
      "134558          0,080  Daily Load Profile  2022-06-01T01:00:00+02:00   \n",
      "134559          0,056  Daily Load Profile  2022-06-01T01:00:00+02:00   \n",
      "134560          0,000  Daily Load Profile  2022-06-01T01:00:00+02:00   \n",
      "\n",
      "                      Insert time               Capture time        OBIS code  \\\n",
      "0       2022-04-01T02:34:23+02:00                        NaN  1-0:32.24.0*255   \n",
      "1       2022-04-01T02:34:23+02:00                        NaN  1-0:32.26.0*255   \n",
      "2       2022-04-01T02:34:23+02:00                        NaN  1-0:32.23.0*255   \n",
      "3       2022-04-01T02:34:23+02:00                        NaN  1-0:52.24.0*255   \n",
      "4       2022-04-01T02:34:23+02:00                        NaN  1-0:72.24.0*255   \n",
      "...                           ...                        ...              ...   \n",
      "134556  2022-06-01T02:12:31+02:00  2022-06-01T01:00:00+02:00   1-0:43.7.0*255   \n",
      "134557  2022-06-01T02:12:31+02:00  2022-06-01T01:00:00+02:00   1-0:63.7.0*255   \n",
      "134558  2022-06-01T02:12:31+02:00  2022-06-01T01:00:00+02:00   1-0:24.7.0*255   \n",
      "134559  2022-06-01T02:12:31+02:00  2022-06-01T01:00:00+02:00   1-0:44.7.0*255   \n",
      "134560  2022-06-01T02:12:31+02:00  2022-06-01T01:00:00+02:00   1-0:64.7.0*255   \n",
      "\n",
      "        Unit  Transformer factor Status word Reading reason     Data source  \n",
      "0          V                   1   No errors       Periodic  DLMS Connector  \n",
      "1          V                   1   No errors       Periodic  DLMS Connector  \n",
      "2          V                   1   No errors       Periodic  DLMS Connector  \n",
      "3          V                   1   No errors       Periodic  DLMS Connector  \n",
      "4          V                   1   No errors       Periodic  DLMS Connector  \n",
      "...      ...                 ...         ...            ...             ...  \n",
      "134556  kvar                   1   No errors       Periodic  DLMS Connector  \n",
      "134557  kvar                   1   No errors       Periodic  DLMS Connector  \n",
      "134558  kvar                   1   No errors       Periodic  DLMS Connector  \n",
      "134559  kvar                   1   No errors       Periodic  DLMS Connector  \n",
      "134560  kvar                   1   No errors       Periodic  DLMS Connector  \n",
      "\n",
      "[134561 rows x 11 columns]>\n"
     ]
    }
   ],
   "source": [
    "print(df.head)"
   ]
  },
  {
   "cell_type": "code",
   "execution_count": 4,
   "id": "c93ff285-0bde-4469-8c91-eeff4ebeada2",
   "metadata": {},
   "outputs": [
    {
     "data": {
      "text/plain": [
       "(134561, 11)"
      ]
     },
     "execution_count": 4,
     "metadata": {},
     "output_type": "execute_result"
    }
   ],
   "source": [
    "df.shape\n"
   ]
  },
  {
   "cell_type": "code",
   "execution_count": 5,
   "id": "2b304790-dbda-476d-b771-74744b5f549c",
   "metadata": {},
   "outputs": [],
   "source": [
    "con_df1=pd.concat([df,df2,df3,df4,df5,df6,df7,df8,df9])\n",
    "con_df2=pd.concat([df10,df11,df12,df13,df14])\n",
    "con_df3=pd.concat([df15,df16,df17,df18,df19])\n",
    "con_df=pd.concat([df,df2,df3,df4,df5,df6,df7,df8,df9,df10,df11,df12,df13,df14,df15,df16,df17,df18,df19])"
   ]
  },
  {
   "cell_type": "code",
   "execution_count": 6,
   "id": "d77da90c-521a-46bb-9500-5e6558bf6079",
   "metadata": {},
   "outputs": [
    {
     "name": "stdout",
     "output_type": "stream",
     "text": [
      "['Reading values', 'Profile', 'Reading time', 'Insert time', 'Capture time', 'OBIS code', 'Unit', 'Transformer factor', 'Status word', 'Reading reason', 'Data source']\n"
     ]
    }
   ],
   "source": [
    "c=list(con_df.columns)\n",
    "print(c)"
   ]
  },
  {
   "cell_type": "code",
   "execution_count": 7,
   "id": "41a212e8-feaa-43c6-8205-b7207c2fe45f",
   "metadata": {},
   "outputs": [],
   "source": [
    "data_cols=['Reading time', 'Insert time',  'Capture time', 'Unit', 'Profile', 'Reading values', 'OBIS code', 'Status word', 'Reading reason']\n",
    "alldata_cols=['Reading date','Reading time','Unit', 'Profile', 'Reading values', 'OBIS code', 'Status word', 'Reading reason']"
   ]
  },
  {
   "cell_type": "code",
   "execution_count": 8,
   "id": "c676719a-aa81-45fb-9294-bfb110981997",
   "metadata": {},
   "outputs": [],
   "source": [
    "con_df=con_df.reindex(columns=data_cols)\n",
    "con_df1=con_df1.reindex(columns=data_cols)\n",
    "con_df2=con_df2.reindex(columns=data_cols)\n",
    "con_df3=con_df3.reindex(columns=data_cols)"
   ]
  },
  {
   "cell_type": "code",
   "execution_count": 9,
   "id": "16905821-975f-4025-99da-ba72618dd8fe",
   "metadata": {},
   "outputs": [
    {
     "name": "stdout",
     "output_type": "stream",
     "text": [
      "['Reading time', 'Insert time', 'Capture time', 'Unit', 'Profile', 'Reading values', 'OBIS code', 'Status word', 'Reading reason']\n"
     ]
    }
   ],
   "source": [
    "c=list(con_df.columns)\n",
    "print(c)"
   ]
  },
  {
   "cell_type": "code",
   "execution_count": 10,
   "id": "c1120061-1666-4d55-b55f-8319ffbe3f32",
   "metadata": {},
   "outputs": [
    {
     "data": {
      "text/plain": [
       "<bound method NDFrame.head of                      Reading time                Insert time  \\\n",
       "0       2022-04-01T01:10:00+02:00  2022-04-01T02:34:23+02:00   \n",
       "1       2022-04-01T01:10:00+02:00  2022-04-01T02:34:23+02:00   \n",
       "2       2022-04-01T01:10:00+02:00  2022-04-01T02:34:23+02:00   \n",
       "3       2022-04-01T01:10:00+02:00  2022-04-01T02:34:23+02:00   \n",
       "4       2022-04-01T01:10:00+02:00  2022-04-01T02:34:23+02:00   \n",
       "...                           ...                        ...   \n",
       "107609  2022-09-01T01:00:00+02:00  2022-09-01T02:17:32+02:00   \n",
       "107610  2022-09-01T01:00:00+02:00  2022-09-01T02:17:32+02:00   \n",
       "107611  2022-09-01T01:00:00+02:00  2022-09-01T02:17:32+02:00   \n",
       "107612  2022-09-01T01:00:00+02:00  2022-09-01T02:17:32+02:00   \n",
       "107613  2022-09-01T01:00:00+02:00  2022-09-01T02:17:32+02:00   \n",
       "\n",
       "                     Capture time  Unit             Profile Reading values  \\\n",
       "0                             NaN     V                 NaN       2,29,000   \n",
       "1                             NaN     V                 NaN       2,31,900   \n",
       "2                             NaN     V                 NaN       2,26,500   \n",
       "3                             NaN     V                 NaN       2,32,200   \n",
       "4                             NaN     V                 NaN       2,31,000   \n",
       "...                           ...   ...                 ...            ...   \n",
       "107609  2022-09-01T01:00:00+02:00  kvar  Daily Load Profile          0,000   \n",
       "107610  2022-09-01T01:00:00+02:00  kvar  Daily Load Profile          0,000   \n",
       "107611  2022-09-01T01:00:00+02:00  kvar  Daily Load Profile          0,195   \n",
       "107612  2022-09-01T01:00:00+02:00  kvar  Daily Load Profile          0,125   \n",
       "107613  2022-09-01T01:00:00+02:00  kvar  Daily Load Profile          0,230   \n",
       "\n",
       "              OBIS code Status word Reading reason  \n",
       "0       1-0:32.24.0*255   No errors       Periodic  \n",
       "1       1-0:32.26.0*255   No errors       Periodic  \n",
       "2       1-0:32.23.0*255   No errors       Periodic  \n",
       "3       1-0:52.24.0*255   No errors       Periodic  \n",
       "4       1-0:72.24.0*255   No errors       Periodic  \n",
       "...                 ...         ...            ...  \n",
       "107609   1-0:43.7.0*255   No errors       Periodic  \n",
       "107610   1-0:63.7.0*255   No errors       Periodic  \n",
       "107611   1-0:24.7.0*255   No errors       Periodic  \n",
       "107612   1-0:44.7.0*255   No errors       Periodic  \n",
       "107613   1-0:64.7.0*255   No errors       Periodic  \n",
       "\n",
       "[2113347 rows x 9 columns]>"
      ]
     },
     "execution_count": 10,
     "metadata": {},
     "output_type": "execute_result"
    }
   ],
   "source": [
    "con_df.head"
   ]
  },
  {
   "cell_type": "code",
   "execution_count": 11,
   "id": "3230f062-c007-490a-9e5a-f0d151c0074b",
   "metadata": {},
   "outputs": [],
   "source": [
    "# con_df1.to_excel(\"output.xlsx\")\n",
    "# con_df2.to_excel(\"output2.xlsx\")\n",
    "# con_df3.to_excel(\"output3.xlsx\")"
   ]
  },
  {
   "cell_type": "code",
   "execution_count": 12,
   "id": "13c205c0-db64-4da9-aa7b-da516bc63817",
   "metadata": {},
   "outputs": [],
   "source": [
    "df_kWh_kvarh = pd.concat([con_df1[con_df1['Unit'] == 'kWh'], con_df1[con_df1['Unit'] == 'kvarh'],con_df1[con_df1['Unit'] == 'kWh'], con_df1[con_df1['Unit'] == 'kvarh'],con_df2[con_df2['Unit'] == 'kWh'], con_df3[con_df3['Unit'] == 'kvarh']])"
   ]
  },
  {
   "cell_type": "code",
   "execution_count": 13,
   "id": "96f65edf-eb17-4a24-92f8-f57ca0a490c9",
   "metadata": {},
   "outputs": [],
   "source": [
    "# df_kWh_kvarh.to_excel(\"op1.xlsx\")"
   ]
  },
  {
   "cell_type": "code",
   "execution_count": 14,
   "id": "f0bdc807-3f67-42fc-bb65-20f580a60c2d",
   "metadata": {
    "scrolled": true
   },
   "outputs": [
    {
     "data": {
      "text/plain": [
       "Reading time      object\n",
       "Insert time       object\n",
       "Capture time      object\n",
       "Unit              object\n",
       "Profile           object\n",
       "Reading values    object\n",
       "OBIS code         object\n",
       "Status word       object\n",
       "Reading reason    object\n",
       "dtype: object"
      ]
     },
     "execution_count": 14,
     "metadata": {},
     "output_type": "execute_result"
    }
   ],
   "source": [
    "df_kWh_kvarh.dtypes"
   ]
  },
  {
   "cell_type": "code",
   "execution_count": 15,
   "id": "291d06c2-cb62-4255-93ed-3acb7623f4f1",
   "metadata": {
    "scrolled": true
   },
   "outputs": [],
   "source": [
    "def convert_to_float(value):\n",
    "    # Replace spaces with empty string and commas with empty string\n",
    "    value = value.replace(' ', '').replace(',', '')\n",
    "    # Convert to float\n",
    "    return float(value)\n",
    "\n",
    "# Apply the function to the 'Number' column\n",
    "df_kWh_kvarh['Reading values'] = df_kWh_kvarh['Reading values'].apply(convert_to_float)\n",
    "\n",
    "# df_kWh_kvarh.to_excel(\"op3.xlsx\")"
   ]
  },
  {
   "cell_type": "code",
   "execution_count": 16,
   "id": "7fd1b046-e764-4412-b7ac-ff52b841ee7d",
   "metadata": {},
   "outputs": [
    {
     "data": {
      "text/plain": [
       "9     2222708.0\n",
       "10          0.0\n",
       "22    2223528.0\n",
       "23          0.0\n",
       "44    2224335.0\n",
       "Name: Reading values, dtype: float64"
      ]
     },
     "execution_count": 16,
     "metadata": {},
     "output_type": "execute_result"
    }
   ],
   "source": [
    "df_kWh_kvarh['Reading values'].head()"
   ]
  },
  {
   "cell_type": "code",
   "execution_count": 17,
   "id": "b9c0101d-3758-4d89-80be-7a6f87a7da42",
   "metadata": {},
   "outputs": [],
   "source": [
    "def calculate_alternate_differences(column):\n",
    "    for i in range(len(column)-1, 1, -2):\n",
    "        column[i] = column[i] - column[i-2]\n",
    "    for i in range(len(column)-2, 1, -2):\n",
    "        column[i] = column[i] - column[i-2]\n",
    "    return column\n",
    "\n",
    "# Apply the function to the 'Reading values' column\n",
    "df_kWh_kvarh['Reading values'] = calculate_alternate_differences(df_kWh_kvarh['Reading values'].tolist())"
   ]
  },
  {
   "cell_type": "code",
   "execution_count": 18,
   "id": "d1e4b120-b96a-4e50-82ad-2471d4bdc650",
   "metadata": {},
   "outputs": [
    {
     "data": {
      "text/html": [
       "<div>\n",
       "<style scoped>\n",
       "    .dataframe tbody tr th:only-of-type {\n",
       "        vertical-align: middle;\n",
       "    }\n",
       "\n",
       "    .dataframe tbody tr th {\n",
       "        vertical-align: top;\n",
       "    }\n",
       "\n",
       "    .dataframe thead th {\n",
       "        text-align: right;\n",
       "    }\n",
       "</style>\n",
       "<table border=\"1\" class=\"dataframe\">\n",
       "  <thead>\n",
       "    <tr style=\"text-align: right;\">\n",
       "      <th></th>\n",
       "      <th>Reading time</th>\n",
       "      <th>Insert time</th>\n",
       "      <th>Capture time</th>\n",
       "      <th>Unit</th>\n",
       "      <th>Profile</th>\n",
       "      <th>Reading values</th>\n",
       "      <th>OBIS code</th>\n",
       "      <th>Status word</th>\n",
       "      <th>Reading reason</th>\n",
       "    </tr>\n",
       "  </thead>\n",
       "  <tbody>\n",
       "    <tr>\n",
       "      <th>9</th>\n",
       "      <td>2022-04-01T01:15:00+02:00</td>\n",
       "      <td>2022-04-01T02:23:12+02:00</td>\n",
       "      <td>NaN</td>\n",
       "      <td>kWh</td>\n",
       "      <td>NaN</td>\n",
       "      <td>2222708.0</td>\n",
       "      <td>1-0:1.8.0*255</td>\n",
       "      <td>No errors</td>\n",
       "      <td>Periodic</td>\n",
       "    </tr>\n",
       "    <tr>\n",
       "      <th>10</th>\n",
       "      <td>2022-04-01T01:15:00+02:00</td>\n",
       "      <td>2022-04-01T02:23:12+02:00</td>\n",
       "      <td>NaN</td>\n",
       "      <td>kWh</td>\n",
       "      <td>NaN</td>\n",
       "      <td>0.0</td>\n",
       "      <td>1-0:2.8.0*255</td>\n",
       "      <td>No errors</td>\n",
       "      <td>Periodic</td>\n",
       "    </tr>\n",
       "    <tr>\n",
       "      <th>22</th>\n",
       "      <td>2022-04-01T01:30:00+02:00</td>\n",
       "      <td>2022-04-01T02:23:12+02:00</td>\n",
       "      <td>NaN</td>\n",
       "      <td>kWh</td>\n",
       "      <td>NaN</td>\n",
       "      <td>820.0</td>\n",
       "      <td>1-0:1.8.0*255</td>\n",
       "      <td>No errors</td>\n",
       "      <td>Periodic</td>\n",
       "    </tr>\n",
       "    <tr>\n",
       "      <th>23</th>\n",
       "      <td>2022-04-01T01:30:00+02:00</td>\n",
       "      <td>2022-04-01T02:23:12+02:00</td>\n",
       "      <td>NaN</td>\n",
       "      <td>kWh</td>\n",
       "      <td>NaN</td>\n",
       "      <td>0.0</td>\n",
       "      <td>1-0:2.8.0*255</td>\n",
       "      <td>No errors</td>\n",
       "      <td>Periodic</td>\n",
       "    </tr>\n",
       "    <tr>\n",
       "      <th>44</th>\n",
       "      <td>2022-04-01T01:45:00+02:00</td>\n",
       "      <td>2022-04-01T02:23:12+02:00</td>\n",
       "      <td>NaN</td>\n",
       "      <td>kWh</td>\n",
       "      <td>NaN</td>\n",
       "      <td>807.0</td>\n",
       "      <td>1-0:1.8.0*255</td>\n",
       "      <td>No errors</td>\n",
       "      <td>Periodic</td>\n",
       "    </tr>\n",
       "  </tbody>\n",
       "</table>\n",
       "</div>"
      ],
      "text/plain": [
       "                 Reading time                Insert time Capture time Unit  \\\n",
       "9   2022-04-01T01:15:00+02:00  2022-04-01T02:23:12+02:00          NaN  kWh   \n",
       "10  2022-04-01T01:15:00+02:00  2022-04-01T02:23:12+02:00          NaN  kWh   \n",
       "22  2022-04-01T01:30:00+02:00  2022-04-01T02:23:12+02:00          NaN  kWh   \n",
       "23  2022-04-01T01:30:00+02:00  2022-04-01T02:23:12+02:00          NaN  kWh   \n",
       "44  2022-04-01T01:45:00+02:00  2022-04-01T02:23:12+02:00          NaN  kWh   \n",
       "\n",
       "   Profile  Reading values      OBIS code Status word Reading reason  \n",
       "9      NaN       2222708.0  1-0:1.8.0*255   No errors       Periodic  \n",
       "10     NaN             0.0  1-0:2.8.0*255   No errors       Periodic  \n",
       "22     NaN           820.0  1-0:1.8.0*255   No errors       Periodic  \n",
       "23     NaN             0.0  1-0:2.8.0*255   No errors       Periodic  \n",
       "44     NaN           807.0  1-0:1.8.0*255   No errors       Periodic  "
      ]
     },
     "execution_count": 18,
     "metadata": {},
     "output_type": "execute_result"
    }
   ],
   "source": [
    "df_kWh_kvarh.head()"
   ]
  },
  {
   "cell_type": "code",
   "execution_count": 19,
   "id": "2bb508bc-56a9-4391-a37d-f01715034a84",
   "metadata": {},
   "outputs": [],
   "source": [
    "df_kWh_kvarh['Reading time']=pd.to_datetime(df_kWh_kvarh['Reading time'], utc=True)\n",
    "\n",
    "df_kWh_kvarh['Reading date']=df_kWh_kvarh['Reading time'].dt.date\n",
    "df_kWh_kvarh['Reading time']=df_kWh_kvarh['Reading time'].dt.time\n",
    "\n",
    "df_kWh_kvarh['Insert time']=pd.to_datetime(df_kWh_kvarh['Insert time'], utc=True)\n",
    "\n",
    "df_kWh_kvarh['Insert date']=df_kWh_kvarh['Insert time'].dt.date\n",
    "df_kWh_kvarh['Insert time']=df_kWh_kvarh['Insert time'].dt.time"
   ]
  },
  {
   "cell_type": "code",
   "execution_count": 20,
   "id": "cbb4b67c-f5fd-404f-8407-a7aeeb6d6f35",
   "metadata": {},
   "outputs": [],
   "source": [
    "newdata_cols=['Reading date', \t'Reading time', 'Insert date', 'Insert time', 'Capture time', 'Unit', 'Profile',\t'Reading values',\t'OBIS code',\t'Status word',\t'Reading reason',]"
   ]
  },
  {
   "cell_type": "code",
   "execution_count": 21,
   "id": "17aa4349-3bb1-4b00-bf32-e745d1d25327",
   "metadata": {},
   "outputs": [
    {
     "data": {
      "text/html": [
       "<div>\n",
       "<style scoped>\n",
       "    .dataframe tbody tr th:only-of-type {\n",
       "        vertical-align: middle;\n",
       "    }\n",
       "\n",
       "    .dataframe tbody tr th {\n",
       "        vertical-align: top;\n",
       "    }\n",
       "\n",
       "    .dataframe thead th {\n",
       "        text-align: right;\n",
       "    }\n",
       "</style>\n",
       "<table border=\"1\" class=\"dataframe\">\n",
       "  <thead>\n",
       "    <tr style=\"text-align: right;\">\n",
       "      <th></th>\n",
       "      <th>Reading date</th>\n",
       "      <th>Reading time</th>\n",
       "      <th>Insert date</th>\n",
       "      <th>Insert time</th>\n",
       "      <th>Capture time</th>\n",
       "      <th>Unit</th>\n",
       "      <th>Profile</th>\n",
       "      <th>Reading values</th>\n",
       "      <th>OBIS code</th>\n",
       "      <th>Status word</th>\n",
       "      <th>Reading reason</th>\n",
       "    </tr>\n",
       "  </thead>\n",
       "  <tbody>\n",
       "    <tr>\n",
       "      <th>9</th>\n",
       "      <td>2022-03-31</td>\n",
       "      <td>23:15:00</td>\n",
       "      <td>2022-04-01</td>\n",
       "      <td>00:23:12</td>\n",
       "      <td>NaN</td>\n",
       "      <td>kWh</td>\n",
       "      <td>NaN</td>\n",
       "      <td>2222708.0</td>\n",
       "      <td>1-0:1.8.0*255</td>\n",
       "      <td>No errors</td>\n",
       "      <td>Periodic</td>\n",
       "    </tr>\n",
       "    <tr>\n",
       "      <th>10</th>\n",
       "      <td>2022-03-31</td>\n",
       "      <td>23:15:00</td>\n",
       "      <td>2022-04-01</td>\n",
       "      <td>00:23:12</td>\n",
       "      <td>NaN</td>\n",
       "      <td>kWh</td>\n",
       "      <td>NaN</td>\n",
       "      <td>0.0</td>\n",
       "      <td>1-0:2.8.0*255</td>\n",
       "      <td>No errors</td>\n",
       "      <td>Periodic</td>\n",
       "    </tr>\n",
       "    <tr>\n",
       "      <th>22</th>\n",
       "      <td>2022-03-31</td>\n",
       "      <td>23:30:00</td>\n",
       "      <td>2022-04-01</td>\n",
       "      <td>00:23:12</td>\n",
       "      <td>NaN</td>\n",
       "      <td>kWh</td>\n",
       "      <td>NaN</td>\n",
       "      <td>820.0</td>\n",
       "      <td>1-0:1.8.0*255</td>\n",
       "      <td>No errors</td>\n",
       "      <td>Periodic</td>\n",
       "    </tr>\n",
       "    <tr>\n",
       "      <th>23</th>\n",
       "      <td>2022-03-31</td>\n",
       "      <td>23:30:00</td>\n",
       "      <td>2022-04-01</td>\n",
       "      <td>00:23:12</td>\n",
       "      <td>NaN</td>\n",
       "      <td>kWh</td>\n",
       "      <td>NaN</td>\n",
       "      <td>0.0</td>\n",
       "      <td>1-0:2.8.0*255</td>\n",
       "      <td>No errors</td>\n",
       "      <td>Periodic</td>\n",
       "    </tr>\n",
       "    <tr>\n",
       "      <th>44</th>\n",
       "      <td>2022-03-31</td>\n",
       "      <td>23:45:00</td>\n",
       "      <td>2022-04-01</td>\n",
       "      <td>00:23:12</td>\n",
       "      <td>NaN</td>\n",
       "      <td>kWh</td>\n",
       "      <td>NaN</td>\n",
       "      <td>807.0</td>\n",
       "      <td>1-0:1.8.0*255</td>\n",
       "      <td>No errors</td>\n",
       "      <td>Periodic</td>\n",
       "    </tr>\n",
       "  </tbody>\n",
       "</table>\n",
       "</div>"
      ],
      "text/plain": [
       "   Reading date Reading time Insert date Insert time Capture time Unit  \\\n",
       "9    2022-03-31     23:15:00  2022-04-01    00:23:12          NaN  kWh   \n",
       "10   2022-03-31     23:15:00  2022-04-01    00:23:12          NaN  kWh   \n",
       "22   2022-03-31     23:30:00  2022-04-01    00:23:12          NaN  kWh   \n",
       "23   2022-03-31     23:30:00  2022-04-01    00:23:12          NaN  kWh   \n",
       "44   2022-03-31     23:45:00  2022-04-01    00:23:12          NaN  kWh   \n",
       "\n",
       "   Profile  Reading values      OBIS code Status word Reading reason  \n",
       "9      NaN       2222708.0  1-0:1.8.0*255   No errors       Periodic  \n",
       "10     NaN             0.0  1-0:2.8.0*255   No errors       Periodic  \n",
       "22     NaN           820.0  1-0:1.8.0*255   No errors       Periodic  \n",
       "23     NaN             0.0  1-0:2.8.0*255   No errors       Periodic  \n",
       "44     NaN           807.0  1-0:1.8.0*255   No errors       Periodic  "
      ]
     },
     "execution_count": 21,
     "metadata": {},
     "output_type": "execute_result"
    }
   ],
   "source": [
    "df_kWh_kvarh=df_kWh_kvarh.reindex(columns=newdata_cols)\n",
    "df_kWh_kvarh.head()\n",
    "# df_kWh_kvarh.to_excel(\"op5.xlsx\")"
   ]
  },
  {
   "cell_type": "code",
   "execution_count": 22,
   "id": "e5c18788-dc9c-41e4-b745-b44f1583a0af",
   "metadata": {},
   "outputs": [],
   "source": [
    "df_V_A = pd.concat([con_df1[con_df1['Unit'] == 'V'],con_df1[con_df1['Unit'] == 'V'],con_df2[con_df2['Unit'] == 'V']])"
   ]
  },
  {
   "cell_type": "code",
   "execution_count": 23,
   "id": "3b1b89bd-cbd3-49d1-af70-06f60d3f6e4a",
   "metadata": {},
   "outputs": [],
   "source": [
    "def convert_to_float(value):\n",
    "    # Replace spaces with empty string and commas with empty string\n",
    "    value = value.replace(' ', '').replace(',', '')\n",
    "    # Convert to float\n",
    "    return float(value)\n",
    "\n",
    "# Apply the function to the 'Number' column\n",
    "df_V_A['Reading values'] = df_V_A['Reading values'].apply(convert_to_float)"
   ]
  },
  {
   "cell_type": "code",
   "execution_count": 24,
   "id": "16cd888c-9a91-4914-b959-984676f9a8bb",
   "metadata": {},
   "outputs": [],
   "source": [
    "def calculate_alternate_differences(column):\n",
    "    for i in range(len(column)-1, 1, -1):\n",
    "        column[i] = column[i] - column[i-1]\n",
    "    return column\n",
    "\n",
    "# Apply the function to the 'Reading values' column\n",
    "df_V_A['Reading values'] = calculate_alternate_differences(df_V_A['Reading values'].tolist())"
   ]
  },
  {
   "cell_type": "code",
   "execution_count": 25,
   "id": "f6a56c7d-2c7e-48d7-8538-1772a4af2b6c",
   "metadata": {},
   "outputs": [],
   "source": [
    "df_V_A = pd.concat([con_df1[con_df1['Unit'] == 'A'],con_df1[con_df1['Unit'] == 'A'],con_df2[con_df2['Unit'] == 'A'],df_V_A[df_V_A['Unit'] == 'V']])"
   ]
  },
  {
   "cell_type": "code",
   "execution_count": 26,
   "id": "02a12e3d-a32b-47b5-8dba-d99529f32998",
   "metadata": {},
   "outputs": [
    {
     "data": {
      "text/html": [
       "<div>\n",
       "<style scoped>\n",
       "    .dataframe tbody tr th:only-of-type {\n",
       "        vertical-align: middle;\n",
       "    }\n",
       "\n",
       "    .dataframe tbody tr th {\n",
       "        vertical-align: top;\n",
       "    }\n",
       "\n",
       "    .dataframe thead th {\n",
       "        text-align: right;\n",
       "    }\n",
       "</style>\n",
       "<table border=\"1\" class=\"dataframe\">\n",
       "  <thead>\n",
       "    <tr style=\"text-align: right;\">\n",
       "      <th></th>\n",
       "      <th>Reading time</th>\n",
       "      <th>Insert time</th>\n",
       "      <th>Capture time</th>\n",
       "      <th>Unit</th>\n",
       "      <th>Profile</th>\n",
       "      <th>Reading values</th>\n",
       "      <th>OBIS code</th>\n",
       "      <th>Status word</th>\n",
       "      <th>Reading reason</th>\n",
       "    </tr>\n",
       "  </thead>\n",
       "  <tbody>\n",
       "    <tr>\n",
       "      <th>889</th>\n",
       "      <td>2022-04-01T13:42:40+02:00</td>\n",
       "      <td>2022-04-02T08:07:52+02:00</td>\n",
       "      <td>NaN</td>\n",
       "      <td>A</td>\n",
       "      <td>NaN</td>\n",
       "      <td>18,288</td>\n",
       "      <td>1-0:51.26.1*255</td>\n",
       "      <td>No errors</td>\n",
       "      <td>Periodic</td>\n",
       "    </tr>\n",
       "    <tr>\n",
       "      <th>1083</th>\n",
       "      <td>2022-04-01T16:23:43+02:00</td>\n",
       "      <td>2022-04-02T08:07:52+02:00</td>\n",
       "      <td>NaN</td>\n",
       "      <td>A</td>\n",
       "      <td>NaN</td>\n",
       "      <td>15,338</td>\n",
       "      <td>1-0:71.26.1*255</td>\n",
       "      <td>No errors</td>\n",
       "      <td>Periodic</td>\n",
       "    </tr>\n",
       "    <tr>\n",
       "      <th>1229</th>\n",
       "      <td>2022-04-01T18:28:40+02:00</td>\n",
       "      <td>2022-04-02T08:07:52+02:00</td>\n",
       "      <td>NaN</td>\n",
       "      <td>A</td>\n",
       "      <td>NaN</td>\n",
       "      <td>22,176</td>\n",
       "      <td>1-0:31.26.1*255</td>\n",
       "      <td>No errors</td>\n",
       "      <td>Periodic</td>\n",
       "    </tr>\n",
       "    <tr>\n",
       "      <th>1678</th>\n",
       "      <td>2022-04-02T02:40:52+02:00</td>\n",
       "      <td>2022-04-02T15:42:34+02:00</td>\n",
       "      <td>NaN</td>\n",
       "      <td>A</td>\n",
       "      <td>NaN</td>\n",
       "      <td>13,695</td>\n",
       "      <td>1-0:51.26.1*255</td>\n",
       "      <td>No errors</td>\n",
       "      <td>Periodic</td>\n",
       "    </tr>\n",
       "    <tr>\n",
       "      <th>2010</th>\n",
       "      <td>2022-04-02T07:24:12+02:00</td>\n",
       "      <td>2022-04-02T15:42:34+02:00</td>\n",
       "      <td>NaN</td>\n",
       "      <td>A</td>\n",
       "      <td>NaN</td>\n",
       "      <td>19,978</td>\n",
       "      <td>1-0:31.26.1*255</td>\n",
       "      <td>No errors</td>\n",
       "      <td>Periodic</td>\n",
       "    </tr>\n",
       "  </tbody>\n",
       "</table>\n",
       "</div>"
      ],
      "text/plain": [
       "                   Reading time                Insert time Capture time Unit  \\\n",
       "889   2022-04-01T13:42:40+02:00  2022-04-02T08:07:52+02:00          NaN    A   \n",
       "1083  2022-04-01T16:23:43+02:00  2022-04-02T08:07:52+02:00          NaN    A   \n",
       "1229  2022-04-01T18:28:40+02:00  2022-04-02T08:07:52+02:00          NaN    A   \n",
       "1678  2022-04-02T02:40:52+02:00  2022-04-02T15:42:34+02:00          NaN    A   \n",
       "2010  2022-04-02T07:24:12+02:00  2022-04-02T15:42:34+02:00          NaN    A   \n",
       "\n",
       "     Profile Reading values        OBIS code Status word Reading reason  \n",
       "889      NaN         18,288  1-0:51.26.1*255   No errors       Periodic  \n",
       "1083     NaN         15,338  1-0:71.26.1*255   No errors       Periodic  \n",
       "1229     NaN         22,176  1-0:31.26.1*255   No errors       Periodic  \n",
       "1678     NaN         13,695  1-0:51.26.1*255   No errors       Periodic  \n",
       "2010     NaN         19,978  1-0:31.26.1*255   No errors       Periodic  "
      ]
     },
     "execution_count": 26,
     "metadata": {},
     "output_type": "execute_result"
    }
   ],
   "source": [
    "df_V_A.head()\n"
   ]
  },
  {
   "cell_type": "code",
   "execution_count": 27,
   "id": "8503a1fd-b782-4e2c-a291-2b7cba86877e",
   "metadata": {},
   "outputs": [
    {
     "data": {
      "text/plain": [
       "(1857819, 9)"
      ]
     },
     "execution_count": 27,
     "metadata": {},
     "output_type": "execute_result"
    }
   ],
   "source": [
    "df_V_A.shape"
   ]
  },
  {
   "cell_type": "code",
   "execution_count": 28,
   "id": "1d0dadf7-232e-4bf5-9f99-d3299204366e",
   "metadata": {},
   "outputs": [],
   "source": [
    "df_V_A['Reading time']=pd.to_datetime(df_V_A['Reading time'], utc=True)\n",
    "\n",
    "df_V_A['Reading date']=df_V_A['Reading time'].dt.date\n",
    "df_V_A['Reading time']=df_V_A['Reading time'].dt.time\n",
    "\n",
    "df_V_A['Insert time']=pd.to_datetime(df_V_A['Insert time'], utc=True)\n",
    "\n",
    "df_V_A['Insert date']=df_V_A['Insert time'].dt.date\n",
    "df_V_A['Insert time']=df_V_A['Insert time'].dt.time"
   ]
  },
  {
   "cell_type": "code",
   "execution_count": 29,
   "id": "6621f3cd-a118-4d4c-b93a-893ef073379b",
   "metadata": {},
   "outputs": [
    {
     "data": {
      "text/html": [
       "<div>\n",
       "<style scoped>\n",
       "    .dataframe tbody tr th:only-of-type {\n",
       "        vertical-align: middle;\n",
       "    }\n",
       "\n",
       "    .dataframe tbody tr th {\n",
       "        vertical-align: top;\n",
       "    }\n",
       "\n",
       "    .dataframe thead th {\n",
       "        text-align: right;\n",
       "    }\n",
       "</style>\n",
       "<table border=\"1\" class=\"dataframe\">\n",
       "  <thead>\n",
       "    <tr style=\"text-align: right;\">\n",
       "      <th></th>\n",
       "      <th>Reading date</th>\n",
       "      <th>Reading time</th>\n",
       "      <th>Insert date</th>\n",
       "      <th>Insert time</th>\n",
       "      <th>Capture time</th>\n",
       "      <th>Unit</th>\n",
       "      <th>Profile</th>\n",
       "      <th>Reading values</th>\n",
       "      <th>OBIS code</th>\n",
       "      <th>Status word</th>\n",
       "      <th>Reading reason</th>\n",
       "    </tr>\n",
       "  </thead>\n",
       "  <tbody>\n",
       "    <tr>\n",
       "      <th>889</th>\n",
       "      <td>2022-04-01</td>\n",
       "      <td>11:42:40</td>\n",
       "      <td>2022-04-02</td>\n",
       "      <td>06:07:52</td>\n",
       "      <td>NaN</td>\n",
       "      <td>A</td>\n",
       "      <td>NaN</td>\n",
       "      <td>18,288</td>\n",
       "      <td>1-0:51.26.1*255</td>\n",
       "      <td>No errors</td>\n",
       "      <td>Periodic</td>\n",
       "    </tr>\n",
       "    <tr>\n",
       "      <th>1083</th>\n",
       "      <td>2022-04-01</td>\n",
       "      <td>14:23:43</td>\n",
       "      <td>2022-04-02</td>\n",
       "      <td>06:07:52</td>\n",
       "      <td>NaN</td>\n",
       "      <td>A</td>\n",
       "      <td>NaN</td>\n",
       "      <td>15,338</td>\n",
       "      <td>1-0:71.26.1*255</td>\n",
       "      <td>No errors</td>\n",
       "      <td>Periodic</td>\n",
       "    </tr>\n",
       "    <tr>\n",
       "      <th>1229</th>\n",
       "      <td>2022-04-01</td>\n",
       "      <td>16:28:40</td>\n",
       "      <td>2022-04-02</td>\n",
       "      <td>06:07:52</td>\n",
       "      <td>NaN</td>\n",
       "      <td>A</td>\n",
       "      <td>NaN</td>\n",
       "      <td>22,176</td>\n",
       "      <td>1-0:31.26.1*255</td>\n",
       "      <td>No errors</td>\n",
       "      <td>Periodic</td>\n",
       "    </tr>\n",
       "    <tr>\n",
       "      <th>1678</th>\n",
       "      <td>2022-04-02</td>\n",
       "      <td>00:40:52</td>\n",
       "      <td>2022-04-02</td>\n",
       "      <td>13:42:34</td>\n",
       "      <td>NaN</td>\n",
       "      <td>A</td>\n",
       "      <td>NaN</td>\n",
       "      <td>13,695</td>\n",
       "      <td>1-0:51.26.1*255</td>\n",
       "      <td>No errors</td>\n",
       "      <td>Periodic</td>\n",
       "    </tr>\n",
       "    <tr>\n",
       "      <th>2010</th>\n",
       "      <td>2022-04-02</td>\n",
       "      <td>05:24:12</td>\n",
       "      <td>2022-04-02</td>\n",
       "      <td>13:42:34</td>\n",
       "      <td>NaN</td>\n",
       "      <td>A</td>\n",
       "      <td>NaN</td>\n",
       "      <td>19,978</td>\n",
       "      <td>1-0:31.26.1*255</td>\n",
       "      <td>No errors</td>\n",
       "      <td>Periodic</td>\n",
       "    </tr>\n",
       "  </tbody>\n",
       "</table>\n",
       "</div>"
      ],
      "text/plain": [
       "     Reading date Reading time Insert date Insert time Capture time Unit  \\\n",
       "889    2022-04-01     11:42:40  2022-04-02    06:07:52          NaN    A   \n",
       "1083   2022-04-01     14:23:43  2022-04-02    06:07:52          NaN    A   \n",
       "1229   2022-04-01     16:28:40  2022-04-02    06:07:52          NaN    A   \n",
       "1678   2022-04-02     00:40:52  2022-04-02    13:42:34          NaN    A   \n",
       "2010   2022-04-02     05:24:12  2022-04-02    13:42:34          NaN    A   \n",
       "\n",
       "     Profile Reading values        OBIS code Status word Reading reason  \n",
       "889      NaN         18,288  1-0:51.26.1*255   No errors       Periodic  \n",
       "1083     NaN         15,338  1-0:71.26.1*255   No errors       Periodic  \n",
       "1229     NaN         22,176  1-0:31.26.1*255   No errors       Periodic  \n",
       "1678     NaN         13,695  1-0:51.26.1*255   No errors       Periodic  \n",
       "2010     NaN         19,978  1-0:31.26.1*255   No errors       Periodic  "
      ]
     },
     "execution_count": 29,
     "metadata": {},
     "output_type": "execute_result"
    }
   ],
   "source": [
    "df_V_A=df_V_A.reindex(columns=newdata_cols)\n",
    "df_V_A.head()\n",
    "# df_V_A.to_csv(\"op6.csv\", index=False)"
   ]
  },
  {
   "cell_type": "code",
   "execution_count": 30,
   "id": "b0ffc6ad-b284-4cd2-a473-7e8420ae7e74",
   "metadata": {},
   "outputs": [
    {
     "name": "stdout",
     "output_type": "stream",
     "text": [
      "   Reading date Reading time Insert date Insert time Capture time Unit  \\\n",
      "9    2022-03-31     23:15:00  2022-04-01    00:23:12          NaN  kWh   \n",
      "10   2022-03-31     23:15:00  2022-04-01    00:23:12          NaN  kWh   \n",
      "22   2022-03-31     23:30:00  2022-04-01    00:23:12          NaN  kWh   \n",
      "23   2022-03-31     23:30:00  2022-04-01    00:23:12          NaN  kWh   \n",
      "44   2022-03-31     23:45:00  2022-04-01    00:23:12          NaN  kWh   \n",
      "\n",
      "   Profile  Reading values      OBIS code Status word Reading reason  \n",
      "9      NaN       2222708.0  1-0:1.8.0*255   No errors       Periodic  \n",
      "10     NaN             0.0  1-0:2.8.0*255   No errors       Periodic  \n",
      "22     NaN           820.0  1-0:1.8.0*255   No errors       Periodic  \n",
      "23     NaN             0.0  1-0:2.8.0*255   No errors       Periodic  \n",
      "44     NaN           807.0  1-0:1.8.0*255   No errors       Periodic  \n",
      "     Reading date Reading time Insert date Insert time Capture time Unit  \\\n",
      "889    2022-04-01     11:42:40  2022-04-02    06:07:52          NaN    A   \n",
      "1083   2022-04-01     14:23:43  2022-04-02    06:07:52          NaN    A   \n",
      "1229   2022-04-01     16:28:40  2022-04-02    06:07:52          NaN    A   \n",
      "1678   2022-04-02     00:40:52  2022-04-02    13:42:34          NaN    A   \n",
      "2010   2022-04-02     05:24:12  2022-04-02    13:42:34          NaN    A   \n",
      "\n",
      "     Profile Reading values        OBIS code Status word Reading reason  \n",
      "889      NaN         18,288  1-0:51.26.1*255   No errors       Periodic  \n",
      "1083     NaN         15,338  1-0:71.26.1*255   No errors       Periodic  \n",
      "1229     NaN         22,176  1-0:31.26.1*255   No errors       Periodic  \n",
      "1678     NaN         13,695  1-0:51.26.1*255   No errors       Periodic  \n",
      "2010     NaN         19,978  1-0:31.26.1*255   No errors       Periodic  \n"
     ]
    }
   ],
   "source": [
    "print(df_kWh_kvarh.head())\n",
    "print(df_V_A.head())"
   ]
  },
  {
   "cell_type": "code",
   "execution_count": 31,
   "id": "8bc89aaf-5727-4532-aba6-f4a29070d1fc",
   "metadata": {},
   "outputs": [
    {
     "name": "stdout",
     "output_type": "stream",
     "text": [
      "  Reading date Reading time Insert date Insert time Capture time Unit Profile  \\\n",
      "0   2022-04-01     11:42:40  2022-04-02    06:07:52          NaN    A     NaN   \n",
      "1   2022-04-01     14:23:43  2022-04-02    06:07:52          NaN    A     NaN   \n",
      "2   2022-04-01     16:28:40  2022-04-02    06:07:52          NaN    A     NaN   \n",
      "3   2022-04-02     00:40:52  2022-04-02    13:42:34          NaN    A     NaN   \n",
      "4   2022-04-02     05:24:12  2022-04-02    13:42:34          NaN    A     NaN   \n",
      "\n",
      "  Reading values        OBIS code Status word Reading reason  \n",
      "0         18,288  1-0:51.26.1*255   No errors       Periodic  \n",
      "1         15,338  1-0:71.26.1*255   No errors       Periodic  \n",
      "2         22,176  1-0:31.26.1*255   No errors       Periodic  \n",
      "3         13,695  1-0:51.26.1*255   No errors       Periodic  \n",
      "4         19,978  1-0:31.26.1*255   No errors       Periodic  \n"
     ]
    }
   ],
   "source": [
    "df_all = pd.concat([df_V_A, df_kWh_kvarh], axis=0, ignore_index=True)  # Adjust axis if needed\n",
    "print(df_all.head())"
   ]
  },
  {
   "cell_type": "code",
   "execution_count": 32,
   "id": "205ca064-9627-4bb9-a2b7-9432fef6844a",
   "metadata": {},
   "outputs": [],
   "source": [
    "# df_all.to_csv(\"op7.csv\", index=False)"
   ]
  },
  {
   "cell_type": "code",
   "execution_count": 33,
   "id": "fa3b8011-9cc8-4012-a420-28d31da6dd63",
   "metadata": {},
   "outputs": [],
   "source": [
    "df_all=df_all.reindex(columns=alldata_cols)"
   ]
  },
  {
   "cell_type": "code",
   "execution_count": 34,
   "id": "bee877e0-28ba-47c6-8fc9-88d763cf60a7",
   "metadata": {},
   "outputs": [
    {
     "name": "stdout",
     "output_type": "stream",
     "text": [
      "        Reading date Reading time   Unit       Profile Reading values  \\\n",
      "0         2022-04-01     11:42:40      A           NaN         18,288   \n",
      "1         2022-04-01     14:23:43      A           NaN         15,338   \n",
      "2         2022-04-01     16:28:40      A           NaN         22,176   \n",
      "3         2022-04-02     00:40:52      A           NaN         13,695   \n",
      "4         2022-04-02     05:24:12      A           NaN         19,978   \n",
      "...              ...          ...    ...           ...            ...   \n",
      "2481674   2022-08-31     22:45:00  kvarh  LoadProfile1          138.0   \n",
      "2481675   2022-08-31     22:45:00  kvarh           NaN            0.0   \n",
      "2481676   2022-08-31     22:45:00  kvarh           NaN            0.0   \n",
      "2481677   2022-08-31     23:00:00  kvarh  LoadProfile1            0.0   \n",
      "2481678   2022-08-31     23:00:00  kvarh  LoadProfile1           43.0   \n",
      "\n",
      "               OBIS code Status word Reading reason  \n",
      "0        1-0:51.26.1*255   No errors       Periodic  \n",
      "1        1-0:71.26.1*255   No errors       Periodic  \n",
      "2        1-0:31.26.1*255   No errors       Periodic  \n",
      "3        1-0:51.26.1*255   No errors       Periodic  \n",
      "4        1-0:31.26.1*255   No errors       Periodic  \n",
      "...                  ...         ...            ...  \n",
      "2481674    1-0:4.8.0*255   No errors       Periodic  \n",
      "2481675    1-0:3.8.0*255   No errors       Periodic  \n",
      "2481676    1-0:4.8.0*255   No errors       Periodic  \n",
      "2481677    1-0:3.8.0*255   No errors       Periodic  \n",
      "2481678    1-0:4.8.0*255   No errors       Periodic  \n",
      "\n",
      "[2481679 rows x 8 columns]\n"
     ]
    }
   ],
   "source": [
    "print(df_all)"
   ]
  },
  {
   "cell_type": "code",
   "execution_count": 35,
   "id": "ee8bf3b4-104c-498f-bd07-dcda8d7b17e5",
   "metadata": {},
   "outputs": [],
   "source": [
    "df_all['Reading date'] = pd.to_datetime(df_all['Reading date']).dt.date.astype(str)\n",
    "df_all['Reading time'] = df_all['Reading time'].astype(str)\n",
    "df_all['Timestamp'] = pd.to_datetime(df_all['Reading date'] + ' ' + df_all['Reading time'])"
   ]
  },
  {
   "cell_type": "code",
   "execution_count": 36,
   "id": "2186865a-7b26-4f3c-aa70-b4b48252309e",
   "metadata": {},
   "outputs": [
    {
     "name": "stdout",
     "output_type": "stream",
     "text": [
      "        Reading date Reading time Unit             Profile Reading values  \\\n",
      "8418      2022-03-31     23:10:00    V                 NaN       229000.0   \n",
      "8419      2022-03-31     23:10:00    V                 NaN       231900.0   \n",
      "8420      2022-03-31     23:10:00    V                 NaN        -5400.0   \n",
      "8421      2022-03-31     23:10:00    V                 NaN         5700.0   \n",
      "8422      2022-03-31     23:10:00    V                 NaN        -1200.0   \n",
      "...              ...          ...  ...                 ...            ...   \n",
      "1857814   2022-08-31     23:00:00    V        LoadProfile2        -1400.0   \n",
      "1857815   2022-08-31     23:00:00    V        LoadProfile2      2113800.0   \n",
      "1857816   2022-08-31     23:00:00    V  Daily Load Profile     -2114700.0   \n",
      "1857817   2022-08-31     23:00:00    V  Daily Load Profile         2100.0   \n",
      "1857818   2022-08-31     23:00:00    V  Daily Load Profile         -600.0   \n",
      "\n",
      "               OBIS code Status word Reading reason           Timestamp  \n",
      "8418     1-0:32.24.0*255   No errors       Periodic 2022-03-31 23:10:00  \n",
      "8419     1-0:32.26.0*255   No errors       Periodic 2022-03-31 23:10:00  \n",
      "8420     1-0:32.23.0*255   No errors       Periodic 2022-03-31 23:10:00  \n",
      "8421     1-0:52.24.0*255   No errors       Periodic 2022-03-31 23:10:00  \n",
      "8422     1-0:72.24.0*255   No errors       Periodic 2022-03-31 23:10:00  \n",
      "...                  ...         ...            ...                 ...  \n",
      "1857814  1-0:72.23.0*255   No errors       Periodic 2022-08-31 23:00:00  \n",
      "1857815  1-0:72.24.0*255   No errors       Periodic 2022-08-31 23:00:00  \n",
      "1857816   1-0:32.7.0*255   No errors       Periodic 2022-08-31 23:00:00  \n",
      "1857817   1-0:52.7.0*255   No errors       Periodic 2022-08-31 23:00:00  \n",
      "1857818   1-0:72.7.0*255   No errors       Periodic 2022-08-31 23:00:00  \n",
      "\n",
      "[1849401 rows x 9 columns]\n"
     ]
    }
   ],
   "source": [
    "filtered_df = df_all[df_all['Unit'] == 'V']\n",
    "\n",
    "print(filtered_df)"
   ]
  },
  {
   "cell_type": "code",
   "execution_count": 37,
   "id": "3a38ce0c-dc8e-41f4-a4f0-2aa2833a34ef",
   "metadata": {},
   "outputs": [],
   "source": [
    "df_all = df_all.drop_duplicates(subset=['Timestamp', 'Unit'], keep='first')\n",
    "df_filtered = df_all[df_all['Unit'] != 'V']\n",
    "df_pall=df_filtered.pivot(index=\"Timestamp\", columns=\"Unit\", values=\"Reading values\").reset_index()\n"
   ]
  },
  {
   "cell_type": "code",
   "execution_count": 38,
   "id": "9af5ff1e-b182-4575-8fcd-676191840c5e",
   "metadata": {},
   "outputs": [
    {
     "name": "stdout",
     "output_type": "stream",
     "text": [
      "Unit            Timestamp    A        kWh     kvarh\n",
      "0     2021-12-31 23:15:00  NaN  7703331.0  512948.0\n",
      "1     2021-12-31 23:30:00  NaN     1100.0       0.0\n",
      "2     2021-12-31 23:45:00  NaN     1017.0       0.0\n",
      "3     2022-01-01 00:00:00  NaN      997.0       0.0\n",
      "4     2022-01-01 00:15:00  NaN      861.0       0.0\n",
      "...                   ...  ...        ...       ...\n",
      "26413 2022-08-31 22:00:00  NaN       77.0       4.0\n",
      "26414 2022-08-31 22:15:00  NaN       67.0       2.0\n",
      "26415 2022-08-31 22:30:00  NaN      193.0       0.0\n",
      "26416 2022-08-31 22:45:00  NaN       50.0       1.0\n",
      "26417 2022-08-31 23:00:00  NaN       41.0       0.0\n",
      "\n",
      "[26418 rows x 4 columns]\n"
     ]
    }
   ],
   "source": [
    "print(df_pall)\n"
   ]
  },
  {
   "cell_type": "code",
   "execution_count": 40,
   "id": "dc36b191-0cb3-490b-b2bc-05d36f048a7d",
   "metadata": {},
   "outputs": [],
   "source": [
    "\n",
    "df_pall.columns.name = None  # Remove the name of the columns index\n",
    "df_pall.columns = ['Timestamp'] + df_filtered['Unit'].unique().tolist()"
   ]
  },
  {
   "cell_type": "code",
   "execution_count": 41,
   "id": "30c7fe8f-d2ef-456a-9916-3b29fc67922c",
   "metadata": {},
   "outputs": [
    {
     "name": "stdout",
     "output_type": "stream",
     "text": [
      "                Timestamp    A        kWh     kvarh\n",
      "0     2021-12-31 23:15:00  NaN  7703331.0  512948.0\n",
      "1     2021-12-31 23:30:00  NaN     1100.0       0.0\n",
      "2     2021-12-31 23:45:00  NaN     1017.0       0.0\n",
      "3     2022-01-01 00:00:00  NaN      997.0       0.0\n",
      "4     2022-01-01 00:15:00  NaN      861.0       0.0\n",
      "...                   ...  ...        ...       ...\n",
      "26413 2022-08-31 22:00:00  NaN       77.0       4.0\n",
      "26414 2022-08-31 22:15:00  NaN       67.0       2.0\n",
      "26415 2022-08-31 22:30:00  NaN      193.0       0.0\n",
      "26416 2022-08-31 22:45:00  NaN       50.0       1.0\n",
      "26417 2022-08-31 23:00:00  NaN       41.0       0.0\n",
      "\n",
      "[26418 rows x 4 columns]\n"
     ]
    }
   ],
   "source": [
    "print(df_pall)\n"
   ]
  },
  {
   "cell_type": "code",
   "execution_count": 49,
   "id": "1fd16292-2f52-4dfc-a5eb-de1a279e467c",
   "metadata": {},
   "outputs": [
    {
     "name": "stdout",
     "output_type": "stream",
     "text": [
      "Minute\n",
      "0     5879\n",
      "15    5897\n",
      "30    5876\n",
      "45    5889\n",
      "Name: count, dtype: int64\n"
     ]
    }
   ],
   "source": [
    "df_pall['Minute'] = pd.to_datetime(df_pall['Timestamp']).dt.minute\n",
    "\n",
    "# Keep only rows where the minute is in [0, 15, 30, 45]\n",
    "df_pall = df_pall[df_pall['Minute'].isin([0, 15, 30, 45])]\n",
    "\n",
    "# Count the occurrences of each minute value\n",
    "minute_counts = df_pall['Minute'].value_counts().sort_index()\n",
    "\n",
    "# Drop the 'Minute' column as it's no longer needed\n",
    "df_pall = df_pall.drop(columns=['Minute'], errors='ignore')\n",
    "\n",
    "print(minute_counts)"
   ]
  },
  {
   "cell_type": "code",
   "execution_count": 51,
   "id": "fee6bb52-ba19-4a22-887f-0096cfe68e71",
   "metadata": {},
   "outputs": [],
   "source": [
    "df_pall.to_csv(\"pivot2.csv\", index=False)\n",
    "\n"
   ]
  },
  {
   "cell_type": "code",
   "execution_count": null,
   "id": "7496906d-dbc5-4a28-b260-5b85e074d124",
   "metadata": {},
   "outputs": [],
   "source": []
  },
  {
   "cell_type": "code",
   "execution_count": null,
   "id": "c7fe7dab-0ec3-4595-a451-8567ccfaadef",
   "metadata": {},
   "outputs": [],
   "source": []
  },
  {
   "cell_type": "code",
   "execution_count": null,
   "id": "e00b36e0-fea6-442b-b4f5-212ce5671eb3",
   "metadata": {},
   "outputs": [],
   "source": []
  },
  {
   "cell_type": "code",
   "execution_count": null,
   "id": "6c8a71b9-5a89-4f35-bd36-0199e9dc3ed7",
   "metadata": {},
   "outputs": [],
   "source": []
  },
  {
   "cell_type": "code",
   "execution_count": null,
   "id": "64640aa0-b31e-44e3-933b-aafbd7ae8360",
   "metadata": {},
   "outputs": [],
   "source": []
  },
  {
   "cell_type": "code",
   "execution_count": null,
   "id": "b2607d37-7aec-4942-a4e7-300abc8e9909",
   "metadata": {},
   "outputs": [],
   "source": []
  }
 ],
 "metadata": {
  "kernelspec": {
   "display_name": "Python 3 (ipykernel)",
   "language": "python",
   "name": "python3"
  },
  "language_info": {
   "codemirror_mode": {
    "name": "ipython",
    "version": 3
   },
   "file_extension": ".py",
   "mimetype": "text/x-python",
   "name": "python",
   "nbconvert_exporter": "python",
   "pygments_lexer": "ipython3",
   "version": "3.11.9"
  }
 },
 "nbformat": 4,
 "nbformat_minor": 5
}
